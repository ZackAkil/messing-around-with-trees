{
 "cells": [
  {
   "cell_type": "code",
   "execution_count": 17,
   "metadata": {},
   "outputs": [],
   "source": [
    "from pprint import pprint"
   ]
  },
  {
   "cell_type": "code",
   "execution_count": 13,
   "metadata": {},
   "outputs": [],
   "source": [
    "nums = list(range(20))"
   ]
  },
  {
   "cell_type": "code",
   "execution_count": 16,
   "metadata": {},
   "outputs": [
    {
     "data": {
      "text/plain": [
       "10"
      ]
     },
     "execution_count": 16,
     "metadata": {},
     "output_type": "execute_result"
    }
   ],
   "source": [
    "int(len(nums)/2)"
   ]
  },
  {
   "cell_type": "code",
   "execution_count": 102,
   "metadata": {},
   "outputs": [],
   "source": [
    "def create_tree(nums):\n",
    "    count = len(nums)\n",
    "    if count < 2:\n",
    "        return nums\n",
    "    if count == 2:\n",
    "        return {nums[0]:[nums[1]]}\n",
    "    else:\n",
    "        middel_index = int(count/2)\n",
    "        return {nums[ middel_index] :[create_tree(nums[:middel_index]),\n",
    "                                      create_tree(nums[middel_index+1:])]}\n",
    "        \n",
    "        "
   ]
  },
  {
   "cell_type": "code",
   "execution_count": 103,
   "metadata": {},
   "outputs": [],
   "source": [
    "s= create_tree(list(range(30)))"
   ]
  },
  {
   "cell_type": "code",
   "execution_count": 104,
   "metadata": {},
   "outputs": [
    {
     "data": {
      "text/plain": [
       "15"
      ]
     },
     "execution_count": 104,
     "metadata": {},
     "output_type": "execute_result"
    }
   ],
   "source": [
    "list(s.keys())[0]"
   ]
  },
  {
   "cell_type": "code",
   "execution_count": 105,
   "metadata": {},
   "outputs": [],
   "source": [
    "def print_tree(tree, level = 0):\n",
    "    level += 3\n",
    "    if type(tree) == dict:\n",
    "        parent_key = list(tree.keys())[0]\n",
    "        print(level*' '+'parent', parent_key)\n",
    "        print_tree(tree[parent_key], level)\n",
    "        \n",
    "    elif type(tree) == list:\n",
    "        for branch in tree:\n",
    "            print_tree(branch, level)\n",
    "            \n",
    "    else:\n",
    "        print(level*' ',tree)\n",
    "            \n",
    "        "
   ]
  },
  {
   "cell_type": "code",
   "execution_count": 106,
   "metadata": {},
   "outputs": [
    {
     "data": {
      "text/plain": [
       "{5: [{2: [{0: [1]}, {3: [4]}]}, {8: [{6: [7]}, [9]]}]}"
      ]
     },
     "execution_count": 106,
     "metadata": {},
     "output_type": "execute_result"
    }
   ],
   "source": [
    "create_tree(list(range(10)))"
   ]
  },
  {
   "cell_type": "code",
   "execution_count": 121,
   "metadata": {
    "scrolled": false
   },
   "outputs": [
    {
     "name": "stdout",
     "output_type": "stream",
     "text": [
      "   parent 63\n",
      "         parent 31\n",
      "               parent 15\n",
      "                     parent 7\n",
      "                           parent 3\n",
      "                                 parent 1\n",
      "                                           0\n",
      "                                           2\n",
      "                                 parent 5\n",
      "                                           4\n",
      "                                           6\n",
      "                           parent 11\n",
      "                                 parent 9\n",
      "                                           8\n",
      "                                           10\n",
      "                                 parent 13\n",
      "                                           12\n",
      "                                           14\n",
      "                     parent 23\n",
      "                           parent 19\n",
      "                                 parent 17\n",
      "                                           16\n",
      "                                           18\n",
      "                                 parent 21\n",
      "                                           20\n",
      "                                           22\n",
      "                           parent 27\n",
      "                                 parent 25\n",
      "                                           24\n",
      "                                           26\n",
      "                                 parent 29\n",
      "                                           28\n",
      "                                           30\n",
      "               parent 47\n",
      "                     parent 39\n",
      "                           parent 35\n",
      "                                 parent 33\n",
      "                                           32\n",
      "                                           34\n",
      "                                 parent 37\n",
      "                                           36\n",
      "                                           38\n",
      "                           parent 43\n",
      "                                 parent 41\n",
      "                                           40\n",
      "                                           42\n",
      "                                 parent 45\n",
      "                                           44\n",
      "                                           46\n",
      "                     parent 55\n",
      "                           parent 51\n",
      "                                 parent 49\n",
      "                                           48\n",
      "                                           50\n",
      "                                 parent 53\n",
      "                                           52\n",
      "                                           54\n",
      "                           parent 59\n",
      "                                 parent 57\n",
      "                                           56\n",
      "                                           58\n",
      "                                 parent 61\n",
      "                                           60\n",
      "                                           62\n",
      "         parent 95\n",
      "               parent 79\n",
      "                     parent 71\n",
      "                           parent 67\n",
      "                                 parent 65\n",
      "                                           64\n",
      "                                           66\n",
      "                                 parent 69\n",
      "                                           68\n",
      "                                           70\n",
      "                           parent 75\n",
      "                                 parent 73\n",
      "                                           72\n",
      "                                           74\n",
      "                                 parent 77\n",
      "                                           76\n",
      "                                           78\n",
      "                     parent 87\n",
      "                           parent 83\n",
      "                                 parent 81\n",
      "                                           80\n",
      "                                           82\n",
      "                                 parent 85\n",
      "                                           84\n",
      "                                           86\n",
      "                           parent 91\n",
      "                                 parent 89\n",
      "                                           88\n",
      "                                           90\n",
      "                                 parent 93\n",
      "                                           92\n",
      "                                           94\n",
      "               parent 111\n",
      "                     parent 103\n",
      "                           parent 99\n",
      "                                 parent 97\n",
      "                                           96\n",
      "                                           98\n",
      "                                 parent 101\n",
      "                                           100\n",
      "                                           102\n",
      "                           parent 107\n",
      "                                 parent 105\n",
      "                                           104\n",
      "                                           106\n",
      "                                 parent 109\n",
      "                                           108\n",
      "                                           110\n",
      "                     parent 119\n",
      "                           parent 115\n",
      "                                 parent 113\n",
      "                                           112\n",
      "                                           114\n",
      "                                 parent 117\n",
      "                                           116\n",
      "                                           118\n",
      "                           parent 123\n",
      "                                 parent 121\n",
      "                                           120\n",
      "                                           122\n",
      "                                 parent 125\n",
      "                                           124\n",
      "                                           126\n"
     ]
    }
   ],
   "source": [
    "print_tree(create_tree(list(range(127))))"
   ]
  },
  {
   "cell_type": "code",
   "execution_count": 112,
   "metadata": {},
   "outputs": [],
   "source": [
    "import random"
   ]
  },
  {
   "cell_type": "code",
   "execution_count": 113,
   "metadata": {},
   "outputs": [],
   "source": [
    "rand_nums = list(set([random.randint(0,100) for i in range(20)]))"
   ]
  },
  {
   "cell_type": "code",
   "execution_count": 118,
   "metadata": {},
   "outputs": [
    {
     "data": {
      "text/plain": [
       "[65,\n",
       " 98,\n",
       " 67,\n",
       " 69,\n",
       " 72,\n",
       " 73,\n",
       " 11,\n",
       " 75,\n",
       " 13,\n",
       " 46,\n",
       " 76,\n",
       " 51,\n",
       " 61,\n",
       " 19,\n",
       " 23,\n",
       " 88,\n",
       " 91,\n",
       " 28,\n",
       " 29,\n",
       " 94]"
      ]
     },
     "execution_count": 118,
     "metadata": {},
     "output_type": "execute_result"
    }
   ],
   "source": [
    "rand_nums"
   ]
  },
  {
   "cell_type": "code",
   "execution_count": 117,
   "metadata": {},
   "outputs": [
    {
     "name": "stdout",
     "output_type": "stream",
     "text": [
      "   parent 67\n",
      "         parent 29\n",
      "               parent 19\n",
      "                     parent 11\n",
      "                            13\n",
      "                     parent 23\n",
      "                            28\n",
      "               parent 61\n",
      "                     parent 46\n",
      "                            51\n",
      "                         65\n",
      "         parent 76\n",
      "               parent 73\n",
      "                     parent 69\n",
      "                            72\n",
      "                         75\n",
      "               parent 94\n",
      "                     parent 88\n",
      "                            91\n",
      "                         98\n"
     ]
    }
   ],
   "source": [
    "print_tree(create_tree(sorted(rand_nums)))"
   ]
  },
  {
   "cell_type": "code",
   "execution_count": 111,
   "metadata": {},
   "outputs": [
    {
     "name": "stdout",
     "output_type": "stream",
     "text": [
      "{\n",
      "    \"7\": [\n",
      "        {\n",
      "            \"3\": [\n",
      "                {\n",
      "                    \"1\": [\n",
      "                        [\n",
      "                            0\n",
      "                        ],\n",
      "                        [\n",
      "                            2\n",
      "                        ]\n",
      "                    ]\n",
      "                },\n",
      "                {\n",
      "                    \"5\": [\n",
      "                        [\n",
      "                            4\n",
      "                        ],\n",
      "                        [\n",
      "                            6\n",
      "                        ]\n",
      "                    ]\n",
      "                }\n",
      "            ]\n",
      "        },\n",
      "        {\n",
      "            \"11\": [\n",
      "                {\n",
      "                    \"9\": [\n",
      "                        [\n",
      "                            8\n",
      "                        ],\n",
      "                        [\n",
      "                            10\n",
      "                        ]\n",
      "                    ]\n",
      "                },\n",
      "                {\n",
      "                    \"13\": [\n",
      "                        [\n",
      "                            12\n",
      "                        ],\n",
      "                        [\n",
      "                            14\n",
      "                        ]\n",
      "                    ]\n",
      "                }\n",
      "            ]\n",
      "        }\n",
      "    ]\n",
      "}\n"
     ]
    }
   ],
   "source": [
    "import json\n",
    "print(json.dumps(create_tree(list(range(15))), sort_keys=True, indent=4))"
   ]
  },
  {
   "cell_type": "code",
   "execution_count": null,
   "metadata": {},
   "outputs": [],
   "source": []
  }
 ],
 "metadata": {
  "kernelspec": {
   "display_name": "Python [conda root]",
   "language": "python",
   "name": "conda-root-py"
  },
  "language_info": {
   "codemirror_mode": {
    "name": "ipython",
    "version": 3
   },
   "file_extension": ".py",
   "mimetype": "text/x-python",
   "name": "python",
   "nbconvert_exporter": "python",
   "pygments_lexer": "ipython3",
   "version": "3.5.3"
  }
 },
 "nbformat": 4,
 "nbformat_minor": 2
}
